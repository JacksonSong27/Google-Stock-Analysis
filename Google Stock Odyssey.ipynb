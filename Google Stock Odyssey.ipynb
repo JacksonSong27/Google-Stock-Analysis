{
 "cells": [
  {
   "cell_type": "markdown",
   "metadata": {},
   "source": [
    "<H1> Section 1: Dataset <H1>"
   ]
  },
  {
   "cell_type": "markdown",
   "metadata": {},
   "source": [
    "**✅ In Markdown, explain what dataset you chose and why you chose it. Include why is it meaningful to you and how you went about finding it. Then, in Python, load your dataset into a DataFrame.**"
   ]
  },
  {
   "cell_type": "markdown",
   "metadata": {},
   "source": [
    "I am choosing the historical data of Google stock prices. This is because Google is a major tech company that can tell us the growth of the tech industry and how the overall market is doing. Understanding how Google stock can provide insights into technological trends and the company's overall financial stability. This can be the most important thing for investors because it helps them to make informed decisions about their financial portfolios. To obtain the data, I was able to upload the data from Yahoo Finance, a reputable financial data platform. It can give me the historical data in a CSV file."
   ]
  },
  {
   "cell_type": "code",
   "execution_count": 49,
   "metadata": {},
   "outputs": [
    {
     "data": {
      "text/html": [
       "<div>\n",
       "<style scoped>\n",
       "    .dataframe tbody tr th:only-of-type {\n",
       "        vertical-align: middle;\n",
       "    }\n",
       "\n",
       "    .dataframe tbody tr th {\n",
       "        vertical-align: top;\n",
       "    }\n",
       "\n",
       "    .dataframe thead th {\n",
       "        text-align: right;\n",
       "    }\n",
       "</style>\n",
       "<table border=\"1\" class=\"dataframe\">\n",
       "  <thead>\n",
       "    <tr style=\"text-align: right;\">\n",
       "      <th></th>\n",
       "      <th>Date</th>\n",
       "      <th>Open</th>\n",
       "      <th>High</th>\n",
       "      <th>Low</th>\n",
       "      <th>Close</th>\n",
       "      <th>Adj Close</th>\n",
       "      <th>Volume</th>\n",
       "    </tr>\n",
       "  </thead>\n",
       "  <tbody>\n",
       "    <tr>\n",
       "      <th>0</th>\n",
       "      <td>2004-08-19</td>\n",
       "      <td>2.490664</td>\n",
       "      <td>2.591785</td>\n",
       "      <td>2.390042</td>\n",
       "      <td>2.499133</td>\n",
       "      <td>2.499133</td>\n",
       "      <td>897427216</td>\n",
       "    </tr>\n",
       "    <tr>\n",
       "      <th>1</th>\n",
       "      <td>2004-08-20</td>\n",
       "      <td>2.515820</td>\n",
       "      <td>2.716817</td>\n",
       "      <td>2.503118</td>\n",
       "      <td>2.697639</td>\n",
       "      <td>2.697639</td>\n",
       "      <td>458857488</td>\n",
       "    </tr>\n",
       "    <tr>\n",
       "      <th>2</th>\n",
       "      <td>2004-08-23</td>\n",
       "      <td>2.758411</td>\n",
       "      <td>2.826406</td>\n",
       "      <td>2.716070</td>\n",
       "      <td>2.724787</td>\n",
       "      <td>2.724787</td>\n",
       "      <td>366857939</td>\n",
       "    </tr>\n",
       "    <tr>\n",
       "      <th>3</th>\n",
       "      <td>2004-08-24</td>\n",
       "      <td>2.770615</td>\n",
       "      <td>2.779581</td>\n",
       "      <td>2.579581</td>\n",
       "      <td>2.611960</td>\n",
       "      <td>2.611960</td>\n",
       "      <td>306396159</td>\n",
       "    </tr>\n",
       "    <tr>\n",
       "      <th>4</th>\n",
       "      <td>2004-08-25</td>\n",
       "      <td>2.614201</td>\n",
       "      <td>2.689918</td>\n",
       "      <td>2.587302</td>\n",
       "      <td>2.640104</td>\n",
       "      <td>2.640104</td>\n",
       "      <td>184645512</td>\n",
       "    </tr>\n",
       "    <tr>\n",
       "      <th>...</th>\n",
       "      <td>...</td>\n",
       "      <td>...</td>\n",
       "      <td>...</td>\n",
       "      <td>...</td>\n",
       "      <td>...</td>\n",
       "      <td>...</td>\n",
       "      <td>...</td>\n",
       "    </tr>\n",
       "    <tr>\n",
       "      <th>4846</th>\n",
       "      <td>2023-11-17</td>\n",
       "      <td>137.820007</td>\n",
       "      <td>138.000000</td>\n",
       "      <td>135.479996</td>\n",
       "      <td>136.940002</td>\n",
       "      <td>136.940002</td>\n",
       "      <td>25565300</td>\n",
       "    </tr>\n",
       "    <tr>\n",
       "      <th>4847</th>\n",
       "      <td>2023-11-20</td>\n",
       "      <td>135.500000</td>\n",
       "      <td>138.425003</td>\n",
       "      <td>135.490005</td>\n",
       "      <td>137.919998</td>\n",
       "      <td>137.919998</td>\n",
       "      <td>19569400</td>\n",
       "    </tr>\n",
       "    <tr>\n",
       "      <th>4848</th>\n",
       "      <td>2023-11-21</td>\n",
       "      <td>137.940002</td>\n",
       "      <td>138.964996</td>\n",
       "      <td>137.705002</td>\n",
       "      <td>138.619995</td>\n",
       "      <td>138.619995</td>\n",
       "      <td>17648100</td>\n",
       "    </tr>\n",
       "    <tr>\n",
       "      <th>4849</th>\n",
       "      <td>2023-11-22</td>\n",
       "      <td>139.100006</td>\n",
       "      <td>141.100006</td>\n",
       "      <td>139.000000</td>\n",
       "      <td>140.020004</td>\n",
       "      <td>140.020004</td>\n",
       "      <td>17306400</td>\n",
       "    </tr>\n",
       "    <tr>\n",
       "      <th>4850</th>\n",
       "      <td>2023-11-24</td>\n",
       "      <td>139.539993</td>\n",
       "      <td>139.677002</td>\n",
       "      <td>137.470001</td>\n",
       "      <td>138.220001</td>\n",
       "      <td>138.220001</td>\n",
       "      <td>8828600</td>\n",
       "    </tr>\n",
       "  </tbody>\n",
       "</table>\n",
       "<p>4851 rows × 7 columns</p>\n",
       "</div>"
      ],
      "text/plain": [
       "            Date        Open        High         Low       Close   Adj Close  \\\n",
       "0     2004-08-19    2.490664    2.591785    2.390042    2.499133    2.499133   \n",
       "1     2004-08-20    2.515820    2.716817    2.503118    2.697639    2.697639   \n",
       "2     2004-08-23    2.758411    2.826406    2.716070    2.724787    2.724787   \n",
       "3     2004-08-24    2.770615    2.779581    2.579581    2.611960    2.611960   \n",
       "4     2004-08-25    2.614201    2.689918    2.587302    2.640104    2.640104   \n",
       "...          ...         ...         ...         ...         ...         ...   \n",
       "4846  2023-11-17  137.820007  138.000000  135.479996  136.940002  136.940002   \n",
       "4847  2023-11-20  135.500000  138.425003  135.490005  137.919998  137.919998   \n",
       "4848  2023-11-21  137.940002  138.964996  137.705002  138.619995  138.619995   \n",
       "4849  2023-11-22  139.100006  141.100006  139.000000  140.020004  140.020004   \n",
       "4850  2023-11-24  139.539993  139.677002  137.470001  138.220001  138.220001   \n",
       "\n",
       "         Volume  \n",
       "0     897427216  \n",
       "1     458857488  \n",
       "2     366857939  \n",
       "3     306396159  \n",
       "4     184645512  \n",
       "...         ...  \n",
       "4846   25565300  \n",
       "4847   19569400  \n",
       "4848   17648100  \n",
       "4849   17306400  \n",
       "4850    8828600  \n",
       "\n",
       "[4851 rows x 7 columns]"
      ]
     },
     "execution_count": 49,
     "metadata": {},
     "output_type": "execute_result"
    }
   ],
   "source": [
    "import pandas as pd\n",
    "df = pd.read_csv(\"GOOG.csv\")\n",
    "df"
   ]
  },
  {
   "cell_type": "markdown",
   "metadata": {},
   "source": [
    "<H1> Section 2: Exploratory Data Analysis<H1>"
   ]
  },
  {
   "cell_type": "markdown",
   "metadata": {},
   "source": [
    "**✅ Exploratory Data Analysis: In Markdown, explain what descriptive statistics can help you give a broad overview of the data (ex: size, shape, interesting descriptive statistics, etc.). In Python, do this exploratory data analysis.**"
   ]
  },
  {
   "cell_type": "markdown",
   "metadata": {},
   "source": [
    "1. Identifying the top three highest stock prices that can help reveal extreme values and potential outliers, offering insights into significant entry points for investors during the given period."
   ]
  },
  {
   "cell_type": "code",
   "execution_count": 50,
   "metadata": {},
   "outputs": [
    {
     "data": {
      "text/html": [
       "<div>\n",
       "<style scoped>\n",
       "    .dataframe tbody tr th:only-of-type {\n",
       "        vertical-align: middle;\n",
       "    }\n",
       "\n",
       "    .dataframe tbody tr th {\n",
       "        vertical-align: top;\n",
       "    }\n",
       "\n",
       "    .dataframe thead th {\n",
       "        text-align: right;\n",
       "    }\n",
       "</style>\n",
       "<table border=\"1\" class=\"dataframe\">\n",
       "  <thead>\n",
       "    <tr style=\"text-align: right;\">\n",
       "      <th></th>\n",
       "      <th>Date</th>\n",
       "      <th>Open</th>\n",
       "      <th>High</th>\n",
       "      <th>Low</th>\n",
       "      <th>Close</th>\n",
       "      <th>Adj Close</th>\n",
       "      <th>Volume</th>\n",
       "    </tr>\n",
       "  </thead>\n",
       "  <tbody>\n",
       "    <tr>\n",
       "      <th>4395</th>\n",
       "      <td>2022-02-02</td>\n",
       "      <td>151.863495</td>\n",
       "      <td>152.100006</td>\n",
       "      <td>145.557495</td>\n",
       "      <td>148.036499</td>\n",
       "      <td>148.036499</td>\n",
       "      <td>89750000</td>\n",
       "    </tr>\n",
       "    <tr>\n",
       "      <th>4345</th>\n",
       "      <td>2021-11-19</td>\n",
       "      <td>151.000000</td>\n",
       "      <td>151.850006</td>\n",
       "      <td>149.887497</td>\n",
       "      <td>149.952499</td>\n",
       "      <td>149.952499</td>\n",
       "      <td>19766000</td>\n",
       "    </tr>\n",
       "    <tr>\n",
       "      <th>4346</th>\n",
       "      <td>2021-11-22</td>\n",
       "      <td>150.141754</td>\n",
       "      <td>150.744507</td>\n",
       "      <td>147.005493</td>\n",
       "      <td>147.078506</td>\n",
       "      <td>147.078506</td>\n",
       "      <td>24608000</td>\n",
       "    </tr>\n",
       "  </tbody>\n",
       "</table>\n",
       "</div>"
      ],
      "text/plain": [
       "            Date        Open        High         Low       Close   Adj Close  \\\n",
       "4395  2022-02-02  151.863495  152.100006  145.557495  148.036499  148.036499   \n",
       "4345  2021-11-19  151.000000  151.850006  149.887497  149.952499  149.952499   \n",
       "4346  2021-11-22  150.141754  150.744507  147.005493  147.078506  147.078506   \n",
       "\n",
       "        Volume  \n",
       "4395  89750000  \n",
       "4345  19766000  \n",
       "4346  24608000  "
      ]
     },
     "execution_count": 50,
     "metadata": {},
     "output_type": "execute_result"
    }
   ],
   "source": [
    "top3 = df.nlargest(3, 'Open')\n",
    "top3"
   ]
  },
  {
   "cell_type": "markdown",
   "metadata": {},
   "source": [
    "Identifying the top three highest stock prices is crucial as it provides a snapshot of the market's performance, highlighting potential outliers and extreme values. This information is essential for investors because it help them to make informed decisions based on historical trends and market dynamics. With accurate identification of these extreme values, it cann be a great investment planning and risk management strategies."
   ]
  },
  {
   "cell_type": "markdown",
   "metadata": {},
   "source": [
    "2. Calculating the average stock prices for opening, closing, high, and low provides a measure of central tendencies for these different price points."
   ]
  },
  {
   "cell_type": "code",
   "execution_count": 51,
   "metadata": {},
   "outputs": [
    {
     "name": "stdout",
     "output_type": "stream",
     "text": [
      "Open     41.342103\n",
      "Close    41.359819\n",
      "High     41.781007\n",
      "Low      40.922001\n"
     ]
    }
   ],
   "source": [
    "findavg = df[[\"Open\", \"Close\", \"High\", \"Low\"]]\n",
    "avg = findavg.mean()\n",
    "print(avg.to_string())"
   ]
  },
  {
   "cell_type": "markdown",
   "metadata": {},
   "source": [
    "Calculating the average stock prices for opening, closing, high, and low is important as it measure the central tendencies for key price points. This provides investors with a clear understanding of the typical or average performance across these crucial metrics. By considering these central tendencies, investors can make more informed decisions and develop strategies based on a comprehensive overview of the stock's historical price movements."
   ]
  },
  {
   "cell_type": "markdown",
   "metadata": {},
   "source": [
    "3. Determining the median stock prices for opening, closing, high, and low gives insight into the middle values of these price points."
   ]
  },
  {
   "cell_type": "code",
   "execution_count": 52,
   "metadata": {},
   "outputs": [
    {
     "name": "stdout",
     "output_type": "stream",
     "text": [
      "Open     26.488464\n",
      "Close    26.494759\n",
      "High     26.705999\n",
      "Low      26.278851\n"
     ]
    }
   ],
   "source": [
    "findmedium = df[[\"Open\", \"Close\", \"High\", \"Low\"]]\n",
    "medium = findmedium.median()\n",
    "print(medium.to_string())"
   ]
  },
  {
   "cell_type": "markdown",
   "metadata": {},
   "source": [
    "Determining the median stock prices for opening, closing, high, and low can provide a balanced perspective on Google stock's performance. This is valuable for investors as it allows them to gauge the central tendencies of these critical price points. It can let them to make decisions based on a more stable representation of its historical performance."
   ]
  },
  {
   "cell_type": "markdown",
   "metadata": {},
   "source": [
    "4. Exploring the quantiles of the stock prices, such as the 25th, 50th (median), and 75th percentiles, provides a detailed understanding of the distribution, helping identify the spread of the data and detect potential patterns or irregularities in the stock price dataset.\n"
   ]
  },
  {
   "cell_type": "code",
   "execution_count": 53,
   "metadata": {},
   "outputs": [
    {
     "name": "stdout",
     "output_type": "stream",
     "text": [
      "           Open      Close       High        Low\n",
      "0.25  12.840620  12.830907  12.951455  12.706124\n",
      "0.50  26.488464  26.494759  26.705999  26.278851\n",
      "0.75  57.303749  57.480249  57.921999  56.750500\n"
     ]
    }
   ],
   "source": [
    "findquantiles = df[[\"Open\", \"Close\", \"High\", \"Low\"]]\n",
    "quantiles = findquantiles.quantile([0.25, 0.5, 0.75])\n",
    "print(quantiles.to_string())"
   ]
  },
  {
   "cell_type": "markdown",
   "metadata": {},
   "source": [
    "Exploring the quantiles of stock prices, including the 25th, 50th (median), and 75th percentiles, is crucial for gaining a understanding of the distribution. This analysis goes beyond central tendencies, offering insights into the spread of the data and helping to identify patterns or irregularities within the stock price dataset. By examining different quantiles, investors can discern the variability in the distribution. "
   ]
  },
  {
   "cell_type": "markdown",
   "metadata": {},
   "source": [
    "5. Identifying and exploring potential outliers in the stock price data helps to pinpoint extreme values that might significantly deviate from the overall distribution, providing insights into unusual market behaviors or exceptional events that affected the stock prices.\n"
   ]
  },
  {
   "cell_type": "code",
   "execution_count": 54,
   "metadata": {},
   "outputs": [
    {
     "name": "stdout",
     "output_type": "stream",
     "text": [
      "Outliers in Stock Prices:\n",
      "4230    124.974998\n",
      "4231    124.700500\n",
      "4232    126.246002\n",
      "4233    125.669502\n",
      "4234    126.522003\n",
      "4235    126.247498\n",
      "4236    125.523003\n",
      "4237    125.705498\n",
      "4238    125.739998\n",
      "4239    126.449997\n",
      "4240    126.550003\n",
      "4241    127.053497\n",
      "4242    126.957001\n",
      "4243    127.000000\n",
      "4244    126.772499\n",
      "4245    125.653549\n",
      "4246    124.849747\n",
      "4247    126.839500\n",
      "4248    129.449493\n",
      "4249    130.341003\n",
      "4250    128.250000\n",
      "4251    128.944504\n",
      "4252    129.833496\n",
      "4253    130.881500\n",
      "4254    131.901505\n",
      "4255    132.500000\n",
      "4256    131.641006\n",
      "4257    131.155502\n",
      "4258    130.003998\n",
      "4259    130.787003\n",
      "4260    132.649994\n",
      "4261    135.259995\n",
      "4262    138.250000\n",
      "4263    140.011002\n",
      "4264    138.561996\n",
      "4265    136.380600\n",
      "4266    135.511002\n",
      "4267    135.484497\n",
      "4268    136.000000\n",
      "4269    136.249496\n",
      "4270    136.028503\n",
      "4271    136.294998\n",
      "4272    136.949005\n",
      "4273    138.079498\n",
      "4274    138.283005\n",
      "4275    137.712997\n",
      "4276    138.357498\n",
      "4277    138.000000\n",
      "4278    138.190994\n",
      "4279    137.115494\n",
      "4280    135.467499\n",
      "4281    137.082993\n",
      "4282    138.998505\n",
      "4283    141.543503\n",
      "4284    142.882996\n",
      "4285    142.618500\n",
      "4286    142.112503\n",
      "4287    144.704498\n",
      "4288    145.884506\n",
      "4289    145.649994\n",
      "4290    145.949493\n",
      "4291    144.145996\n",
      "4292    144.749496\n",
      "4293    145.393494\n",
      "4294    144.883499\n",
      "4295    145.443497\n",
      "4296    143.201004\n",
      "4297    144.160995\n",
      "4298    143.759003\n",
      "4299    145.121002\n",
      "4300    143.798492\n",
      "4301    139.000198\n",
      "4302    140.117004\n",
      "4303    140.050507\n",
      "4304    141.609497\n",
      "4305    140.945999\n",
      "4306    141.585495\n",
      "4307    139.088501\n",
      "4308    137.109695\n",
      "4309    134.324997\n",
      "4310    133.554504\n",
      "4311    135.699493\n",
      "4312    134.000000\n",
      "4313    134.625504\n",
      "4314    138.863007\n",
      "4315    139.906006\n",
      "4316    139.800003\n",
      "4317    139.637497\n",
      "4318    137.750000\n",
      "4319    139.951996\n",
      "4320    142.199997\n",
      "4321    141.213501\n",
      "4322    143.291504\n",
      "4323    144.222504\n",
      "4324    142.192001\n",
      "4325    140.350998\n",
      "4326    138.810501\n",
      "4327    140.606003\n",
      "4328    139.902496\n",
      "4329    147.298996\n",
      "4330    145.520004\n",
      "4331    148.164993\n",
      "4332    144.809402\n",
      "4333    146.274994\n",
      "4334    147.199997\n",
      "4335    149.353500\n",
      "4336    150.000000\n",
      "4337    149.746002\n",
      "4338    148.009750\n",
      "4339    147.106995\n",
      "4340    147.831497\n",
      "4341    150.000000\n",
      "4342    149.170502\n",
      "4343    149.229004\n",
      "4344    149.145996\n",
      "4345    151.000000\n",
      "4346    150.141754\n",
      "4347    147.113007\n",
      "4348    146.350006\n",
      "4349    145.015503\n",
      "4350    144.298492\n",
      "4351    145.450256\n",
      "4352    144.212494\n",
      "4353    141.824005\n",
      "4354    144.495499\n",
      "4355    143.574005\n",
      "4356    145.949997\n",
      "4357    148.331497\n",
      "4358    148.175995\n",
      "4359    149.100006\n",
      "4360    148.444000\n",
      "4361    144.770004\n",
      "4362    144.365997\n",
      "4363    148.076996\n",
      "4364    142.714493\n",
      "4365    140.679596\n",
      "4366    143.149994\n",
      "4367    144.100006\n",
      "4368    147.089493\n",
      "4369    147.463501\n",
      "4370    148.374496\n",
      "4371    146.429504\n",
      "4372    146.449997\n",
      "4373    145.544006\n",
      "4374    144.475494\n",
      "4375    145.550507\n",
      "4376    144.181000\n",
      "4377    137.497498\n",
      "4378    137.904999\n",
      "4379    135.098999\n",
      "4380    138.180496\n",
      "4381    141.554504\n",
      "4382    141.840500\n",
      "4383    137.500000\n",
      "4384    136.600006\n",
      "4385    136.938507\n",
      "4386    136.514008\n",
      "4387    133.011993\n",
      "4388    126.027496\n",
      "4389    128.435501\n",
      "4390    130.592499\n",
      "4391    131.360992\n",
      "4392    130.000000\n",
      "4393    134.197998\n",
      "4394    137.835007\n",
      "4395    151.863495\n",
      "4396    145.294998\n",
      "4397    143.016998\n",
      "4398    143.709000\n",
      "4399    138.991257\n",
      "4400    140.849747\n",
      "4401    139.500000\n",
      "4402    138.750000\n",
      "4403    133.365494\n",
      "4404    137.471497\n",
      "4405    136.430496\n",
      "4406    136.149994\n",
      "4407    133.037506\n",
      "4408    129.985001\n",
      "4409    131.078506\n",
      "4410    125.000000\n",
      "4411    133.525497\n",
      "4412    133.284500\n",
      "4413    134.479996\n",
      "4414    134.608246\n",
      "4415    135.978500\n",
      "4416    133.382507\n",
      "4417    131.904007\n",
      "4418    126.250504\n",
      "4419    131.399994\n",
      "4420    131.462494\n",
      "4421    133.999496\n",
      "4422    130.572998\n",
      "4423    127.741501\n",
      "4424    131.000000\n",
      "4425    133.320999\n",
      "4426    133.884003\n",
      "4427    136.847504\n",
      "4428    136.500000\n",
      "4429    139.138504\n",
      "4430    139.272507\n",
      "4431    141.753998\n",
      "4432    140.684494\n",
      "4433    143.160507\n",
      "4434    142.869995\n",
      "4435    142.448502\n",
      "4436    140.009995\n",
      "4437    140.824493\n",
      "4438    143.399506\n",
      "4439    139.161499\n",
      "4440    136.617996\n",
      "4441    136.250000\n",
      "4442    132.899994\n",
      "4443    132.423492\n",
      "4444    128.626495\n",
      "4445    130.649506\n",
      "4446    127.410004\n",
      "4447    128.076996\n",
      "4448    131.283997\n",
      "4449    129.350006\n",
      "4450    125.000000\n",
      "4720    124.199997\n",
      "4722    124.930000\n",
      "4724    125.209999\n",
      "4725    124.065002\n",
      "4726    126.290001\n",
      "4729    124.489998\n",
      "4730    124.610001\n",
      "4731    126.599998\n",
      "4732    127.574997\n",
      "4736    125.650002\n",
      "4739    126.699997\n",
      "4757    125.129997\n",
      "4758    126.059998\n",
      "4759    124.904999\n",
      "4760    124.790001\n",
      "4765    130.360001\n",
      "4766    131.800003\n",
      "4767    130.970001\n",
      "4768    133.009995\n",
      "4769    130.854996\n",
      "4770    129.839996\n",
      "4771    128.369995\n",
      "4772    129.600006\n",
      "4773    129.509995\n",
      "4774    130.979996\n",
      "4775    132.190002\n",
      "4776    131.970001\n",
      "4777    129.201996\n",
      "4778    129.850006\n",
      "4779    131.589996\n",
      "4780    129.279999\n",
      "4781    130.449997\n",
      "4782    129.059998\n",
      "4783    127.849998\n",
      "4784    129.130005\n",
      "4785    130.850006\n",
      "4786    134.727005\n",
      "4787    130.139999\n",
      "4788    132.080002\n",
      "4789    132.998001\n",
      "4790    135.570007\n",
      "4791    137.050003\n",
      "4792    138.429993\n",
      "4793    136.440002\n",
      "4794    137.014999\n",
      "4795    134.600006\n",
      "4796    135.869995\n",
      "4797    137.380005\n",
      "4798    137.130005\n",
      "4799    135.899994\n",
      "4800    138.389999\n",
      "4801    138.800003\n",
      "4802    137.630005\n",
      "4803    138.250000\n",
      "4804    138.830002\n",
      "4805    132.389999\n",
      "4806    131.679993\n",
      "4807    130.770004\n",
      "4808    130.914001\n",
      "4809    129.440002\n",
      "4810    130.690002\n",
      "4811    134.080002\n",
      "4812    132.154999\n",
      "4813    134.929993\n",
      "4814    133.660004\n",
      "4815    136.130005\n",
      "4816    134.940002\n",
      "4817    137.990005\n",
      "4818    139.509995\n",
      "4819    139.850006\n",
      "4820    142.160004\n",
      "4821    140.649994\n",
      "4822    139.729996\n",
      "4823    140.029999\n",
      "4824    140.750000\n",
      "4825    139.800003\n",
      "4826    138.589996\n",
      "4827    136.229996\n",
      "4828    139.160004\n",
      "4829    129.770004\n",
      "4830    124.470001\n",
      "4831    124.029999\n",
      "4832    124.459999\n",
      "4833    126.269997\n",
      "4834    125.339996\n",
      "4835    129.559998\n",
      "4836    129.089996\n",
      "4837    130.220001\n",
      "4838    131.979996\n",
      "4839    132.360001\n",
      "4840    133.360001\n",
      "4841    131.529999\n",
      "4842    133.360001\n",
      "4843    135.649994\n",
      "4844    136.639999\n",
      "4845    136.960007\n",
      "4846    137.820007\n",
      "4847    135.500000\n",
      "4848    137.940002\n",
      "4849    139.100006\n",
      "4850    139.539993\n"
     ]
    }
   ],
   "source": [
    "print(\"Outliers in Stock Prices:\")\n",
    "sample = df['Open']\n",
    "Q1 = sample.quantile(0.25)\n",
    "Q3 = sample.quantile(0.75)\n",
    "IQR = Q3 - Q1\n",
    "outliers = (sample < Q1 - 1.5 * IQR) | (sample > Q3 + 1.5 * IQR)\n",
    "print(sample[outliers].to_string())"
   ]
  },
  {
   "cell_type": "markdown",
   "metadata": {},
   "source": [
    "Identifying and exploring potential outliers in stock price data is essential for pinpointing extreme values that significantly deviate from the overall distribution. This process provides valuable insights into unusual market behaviors that might have impacted stock prices. Investors can better understand the context behind extreme fluctuations and make informed decisions to navigate or capitalize on unique market conditions."
   ]
  },
  {
   "cell_type": "markdown",
   "metadata": {},
   "source": [
    "<H1> Section 3: Exploratory Data Visualization <H1>"
   ]
  },
  {
   "cell_type": "markdown",
   "metadata": {},
   "source": [
    "**✅ Exploratory Data Visualization: In Python, create at least one data visualization. This does not need to be complex, but should showcase something about your EDA or Data Science analysis. In Markdown, provide at least a two sentence summary of this result.**\n"
   ]
  },
  {
   "cell_type": "code",
   "execution_count": 70,
   "metadata": {},
   "outputs": [
    {
     "data": {
      "image/png": "[encoded data removed]",
      "text/plain": [
       "<Figure size 640x480 with 1 Axes>"
      ]
     },
     "metadata": {},
     "output_type": "display_data"
    }
   ],
   "source": [
    "import matplotlib.pyplot as plt\n",
    "\n",
    "plt.plot(df['Date'], df['Open'], color='green')\n",
    "plt.title('Stock Prices Over Time')\n",
    "plt.xlabel('Date')\n",
    "plt.ylabel('Opening Price')\n",
    "plt.show()"
   ]
  },
  {
   "cell_type": "markdown",
   "metadata": {},
   "source": [
    "The Stock Prices Over Time graph shows how Google's opening stock prices changed over time. Just by looking at the picture, you can see that the prices have gone up a lot. This means that over the period shown, Google's opening prices have significantly increased. The graph makes it really clear and easy to see this big increase in prices."
   ]
  },
  {
   "cell_type": "code",
   "execution_count": 56,
   "metadata": {},
   "outputs": [
    {
     "data": {
      "image/png": "[encoded data removed]",
      "text/plain": [
       "<Figure size 640x480 with 1 Axes>"
      ]
     },
     "metadata": {},
     "output_type": "display_data"
    }
   ],
   "source": [
    "import matplotlib.pyplot as plt\n",
    "\n",
    "plt.hist(df['Close'], bins=20, color='orange', edgecolor='black')\n",
    "plt.title('Distribution of Stock Closing Prices')\n",
    "plt.xlabel('Closing Price')\n",
    "plt.ylabel('Frequency')\n",
    "plt.show()"
   ]
  },
  {
   "cell_type": "markdown",
   "metadata": {},
   "source": [
    "The stock closing price histogram shows us how these prices are spread out over different ranges. It's like a picture that helps us see if there are any unusual or different closing levels in the data. This chart is useful for figuring out how most of the closing prices are grouped and if there are any exceptions or outliers."
   ]
  },
  {
   "cell_type": "markdown",
   "metadata": {},
   "source": [
    "<H1> Section 4: Data Science <H1>"
   ]
  },
  {
   "cell_type": "markdown",
   "metadata": {},
   "source": [
    "**✅ Data Science: In Markdown, explain at least one question you have about your dataset. Clearly state the questions you have and how you plan on using Python to answer them. This may involve cleaning or selecting a subset of the data. You can use any technique you learned in DISCOVERY that is beyond simple descriptive statistics. You can use regression, hypothesis testing, correlation, simulation, or ideas from any of the labs, MicroProjects, or lecture. In Python, do the data science! :)**"
   ]
  },
  {
   "cell_type": "markdown",
   "metadata": {},
   "source": [
    "\n",
    "**Question: How well does the linear regression model predict Google stock prices based on the number of days since the start of the dataset?**\n",
    "\n",
    "**Plan to answer the question using Python:** \n",
    "\n",
    "\n",
    "Import necessary things\n",
    "\n",
    "- Libraries such as pandas for data manipulation, sklearn for machine learning, and matplotlib for visualization.\n",
    "\n",
    "- Convert the 'Date' column in the DataFrame to datetime format.\n",
    "\n",
    "- Create a new DataFrame (data) containing only the 'Date' and 'Close' columns.\n",
    "\n",
    "- Calculate the number of days since the start of the dataset and add a new column ('Days') to the DataFrame.\n",
    "\n",
    "- Split the data into training and testing sets using the train_test_split function.\n",
    "\n",
    "- Fit a linear regression model to the training data.\n",
    "\n",
    "- Predict the closing prices using the test data.\n",
    "\n",
    "- Scatter plot the actual closing prices against the predicted closing prices to visualize the model's performance.\n",
    "\n",
    "\n",
    "By analyzing the scatter plot and the regression line, you can assess how well the linear regression model captures the relationship between the number of days since the start and the closing prices of Google stock. If the points are closely aligned with the regression line, it suggests that the model is making accurate predictions. If there is significant deviation, it indicates potential limitations in the linear regression approach for predicting stock prices over time."
   ]
  },
  {
   "cell_type": "code",
   "execution_count": 69,
   "metadata": {},
   "outputs": [
    {
     "name": "stderr",
     "output_type": "stream",
     "text": [
      "/var/folders/20/t7m1qk351jdbp557fjz0dgr00000gn/T/ipykernel_29650/3178714384.py:9: SettingWithCopyWarning: \n",
      "A value is trying to be set on a copy of a slice from a DataFrame.\n",
      "Try using .loc[row_indexer,col_indexer] = value instead\n",
      "\n",
      "See the caveats in the documentation: https://pandas.pydata.org/pandas-docs/stable/user_guide/indexing.html#returning-a-view-versus-a-copy\n",
      "  data['Days'] = (data['Date'] - data['Date'].min()).dt.days\n"
     ]
    },
    {
     "data": {
      "image/png": "[encoded data removed]",
      "text/plain": [
       "<Figure size 640x480 with 1 Axes>"
      ]
     },
     "metadata": {},
     "output_type": "display_data"
    }
   ],
   "source": [
    "import pandas as pd\n",
    "from sklearn.model_selection import train_test_split\n",
    "from sklearn.linear_model import LinearRegression\n",
    "import matplotlib.pyplot as plt\n",
    "\n",
    "df['Date'] = pd.to_datetime(df['Date'])\n",
    "data = df[['Date', 'Close']]\n",
    "\n",
    "data['Days'] = (data['Date'] - data['Date'].min()).dt.days\n",
    "X = data[['Days']]\n",
    "y = data['Close']\n",
    "\n",
    "\n",
    "X_train, X_test, y_train, y_test = train_test_split(X, y, test_size=0.2, random_state=42)\n",
    "model.fit(X_train, y_train)\n",
    "y_pred = model.predict(X_test)\n",
    "\n",
    "plt.scatter(X_test, y_test, color='black')\n",
    "plt.plot(X_test, y_pred, color='blue', linewidth=3)\n",
    "plt.title('Linear Regression: Google Stock Prices Over Time')\n",
    "plt.xlabel('Days Since Start')\n",
    "plt.ylabel('Closing Price')\n",
    "plt.show()"
   ]
  },
  {
   "cell_type": "markdown",
   "metadata": {},
   "source": [
    "After making predictions with our trained model (y_pred), we deploy our trained model (y_pred) to predict closing prices on the test set. What follows is a visual exploration where we plot these predictions against the actual closing prices (y_test). This visual representation not only showcases the real closing prices but also overlays a linear regression line—an illustration of how our model interprets the relationship between time and closing prices. This graph essentially acts as a visual gauge, allowing us to gauge how closely our straightforward linear regression model aligns with the actual data.\n",
    "\n",
    "By looking at this graph, we can really understand how Google's stock prices have changed over time. This helps us make decisions with a broader perspective, considering the whole picture rather than just the numbers, and it guides us in making more informed choices based on a complete view of the data."
   ]
  },
  {
   "cell_type": "markdown",
   "metadata": {},
   "source": [
    "<H1> Section 5: Overall Summary <H1>"
   ]
  },
  {
   "cell_type": "markdown",
   "metadata": {},
   "source": [
    "**✅ Overall Summary: In Markdown, summarize your dataset, findings, and visualization. A good summary shares a complete overview of your work in only 1-2 paragraphs without going low-level into the code. This might be the summary you would share in a future interview if someone asked you about \"what is a data science project you did on your own?\". Make sure to include at least 1-2 paragraphs for your summary (a paragraph is at least 5 sentences).**"
   ]
  },
  {
   "cell_type": "markdown",
   "metadata": {},
   "source": [
    "I've always been interested in understanding stock market trends, and that's  why I wanted to delve into the historical data of Google stock prices. Choosing Google, a major tech company, seemed logical as it not only provides insights into the tech industry but also reflects broader market trends. To start my analysis, I sourced the data from Yahoo Finance.\n",
    "\n",
    "To get a comprehensive overview, I did various analyses. First, I identified the three highest opening stock prices. Simultaneously, I calculated average and median values for opening, high, and low prices, explored quantiles, and pinpointed outliers. Gathering this information was crucial in understanding the dataset completely. Visualization played a very important role in this exploration, with the plot graph offering a visual narrative that made patterns easier to understand. Additionally, a histogram showcased the distribution of closing prices, which helped me in identifying both patterns and outliers.\n",
    "\n",
    "In summary, this project not only provided valuable insights into Google's stock performance but also demonstrated a method that can be applied to other financial datasets. This approach in, understanding data gathering, analysis, visualization, and addressing findings, highlights a good skill set within the world of data science."
   ]
  }
 ],
 "metadata": {
  "kernelspec": {
   "display_name": "base",
   "language": "python",
   "name": "python3"
  },
  "language_info": {
   "codemirror_mode": {
    "name": "ipython",
    "version": 3
   },
   "file_extension": ".py",
   "mimetype": "text/x-python",
   "name": "python",
   "nbconvert_exporter": "python",
   "pygments_lexer": "ipython3",
   "version": "3.11.4"
  },
  "orig_nbformat": 4
 },
 "nbformat": 4,
 "nbformat_minor": 2
}
